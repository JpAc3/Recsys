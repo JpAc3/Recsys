{
  "nbformat": 4,
  "nbformat_minor": 0,
  "metadata": {
    "colab": {
      "name": "Recsys.ipynb",
      "provenance": [],
      "collapsed_sections": [],
      "machine_shape": "hm"
    },
    "kernelspec": {
      "name": "python3",
      "display_name": "Python 3"
    },
    "accelerator": "TPU"
  },
  "cells": [
    {
      "cell_type": "markdown",
      "metadata": {
        "id": "ZvED420Yakcd"
      },
      "source": [
        "This was wrtten is Google Colab so may need modification in places file path"
      ]
    },
    {
      "cell_type": "code",
      "metadata": {
        "id": "mgRCBYPMq4iU",
        "colab": {
          "resources": {
            "http://localhost:8080/nbextensions/google.colab/files.js": {
              "data": "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",
              "ok": true,
              "headers": [
                [
                  "content-type",
                  "application/javascript"
                ]
              ],
              "status": 200,
              "status_text": "OK"
            }
          },
          "base_uri": "https://localhost:8080/",
          "height": 73
        },
        "outputId": "a04ad1db-8b54-4b4e-96f1-be2dc205cfbc"
      },
      "source": [
        "from google.colab import files\n",
        "uploaded=files.upload()"
      ],
      "execution_count": 1,
      "outputs": [
        {
          "output_type": "display_data",
          "data": {
            "text/html": [
              "\n",
              "     <input type=\"file\" id=\"files-df3f6db5-4602-4c93-a185-c80c2b39f7f4\" name=\"files[]\" multiple disabled\n",
              "        style=\"border:none\" />\n",
              "     <output id=\"result-df3f6db5-4602-4c93-a185-c80c2b39f7f4\">\n",
              "      Upload widget is only available when the cell has been executed in the\n",
              "      current browser session. Please rerun this cell to enable.\n",
              "      </output>\n",
              "      <script src=\"/nbextensions/google.colab/files.js\"></script> "
            ],
            "text/plain": [
              "<IPython.core.display.HTML object>"
            ]
          },
          "metadata": {}
        },
        {
          "output_type": "stream",
          "name": "stdout",
          "text": [
            "Saving kaggle.json to kaggle.json\n"
          ]
        }
      ]
    },
    {
      "cell_type": "code",
      "metadata": {
        "id": "3UU6Q38bk_fC"
      },
      "source": [
        "!pip install -q kaggle\n",
        "!mkdir -p ~/.kaggle\n",
        "!cp kaggle.json ~/.kaggle/\n",
        "!chmod 600 ~/.kaggle/kaggle.json"
      ],
      "execution_count": 4,
      "outputs": []
    },
    {
      "cell_type": "code",
      "metadata": {
        "id": "IVCAGzy9Osjs",
        "colab": {
          "base_uri": "https://localhost:8080/"
        },
        "outputId": "60e0738a-b58f-428a-c787-1261e6b76548"
      },
      "source": [
        "!kaggle datasets download -d rounakbanik/the-movies-dataset"
      ],
      "execution_count": 4,
      "outputs": [
        {
          "output_type": "stream",
          "name": "stdout",
          "text": [
            "the-movies-dataset.zip: Skipping, found more recently modified local copy (use --force to force download)\n"
          ]
        }
      ]
    },
    {
      "cell_type": "code",
      "metadata": {
        "colab": {
          "base_uri": "https://localhost:8080/"
        },
        "id": "cLlPJb7z-Xsx",
        "outputId": "9d636c97-07f8-4e78-ce40-d1f437d085cb"
      },
      "source": [
        "pip install surprise"
      ],
      "execution_count": 41,
      "outputs": [
        {
          "output_type": "stream",
          "name": "stdout",
          "text": [
            "Collecting surprise\n",
            "  Downloading surprise-0.1-py2.py3-none-any.whl (1.8 kB)\n",
            "Collecting scikit-surprise\n",
            "  Downloading scikit-surprise-1.1.1.tar.gz (11.8 MB)\n",
            "\u001b[K     |████████████████████████████████| 11.8 MB 4.5 MB/s \n",
            "\u001b[?25hRequirement already satisfied: joblib>=0.11 in /usr/local/lib/python3.7/dist-packages (from scikit-surprise->surprise) (1.0.1)\n",
            "Requirement already satisfied: numpy>=1.11.2 in /usr/local/lib/python3.7/dist-packages (from scikit-surprise->surprise) (1.19.5)\n",
            "Requirement already satisfied: scipy>=1.0.0 in /usr/local/lib/python3.7/dist-packages (from scikit-surprise->surprise) (1.4.1)\n",
            "Requirement already satisfied: six>=1.10.0 in /usr/local/lib/python3.7/dist-packages (from scikit-surprise->surprise) (1.15.0)\n",
            "Building wheels for collected packages: scikit-surprise\n",
            "  Building wheel for scikit-surprise (setup.py) ... \u001b[?25l\u001b[?25hdone\n",
            "  Created wheel for scikit-surprise: filename=scikit_surprise-1.1.1-cp37-cp37m-linux_x86_64.whl size=1619393 sha256=146ca85cd99faa6b23fc9a5a389e0143f934b15bb42eabb1288447c04bcacadd\n",
            "  Stored in directory: /root/.cache/pip/wheels/76/44/74/b498c42be47b2406bd27994e16c5188e337c657025ab400c1c\n",
            "Successfully built scikit-surprise\n",
            "Installing collected packages: scikit-surprise, surprise\n",
            "Successfully installed scikit-surprise-1.1.1 surprise-0.1\n"
          ]
        }
      ]
    },
    {
      "cell_type": "code",
      "metadata": {
        "id": "1p3vyDHqO-Yl"
      },
      "source": [
        "import os \n",
        "import numpy as np\n",
        "import pandas as pd\n",
        "import seaborn as sns\n",
        "\n",
        "import matplotlib.pyplot as plt\n",
        "%matplotlib inline\n",
        "import warnings\n",
        "warnings.filterwarnings('ignore')\n",
        "from zipfile import ZipFile\n",
        "from wordcloud import WordCloud,STOPWORDS\n",
        "import ast"
      ],
      "execution_count": 2,
      "outputs": []
    },
    {
      "cell_type": "code",
      "metadata": {
        "id": "lMZB3x8JWsns"
      },
      "source": [
        "\n",
        "import ast\n",
        "import nltk\n",
        "import unicodedata\n",
        "import re\n",
        "from nltk.tokenize import word_tokenize\n",
        "from sklearn.feature_extraction.text import CountVectorizer\n",
        "from sklearn.metrics.pairwise import cosine_similarity\n",
        "from sklearn.feature_extraction.text import TfidfVectorizer"
      ],
      "execution_count": 3,
      "outputs": []
    },
    {
      "cell_type": "markdown",
      "metadata": {
        "id": "NSgn5VMmP5ZB"
      },
      "source": [
        "#DataPreprecessing"
      ]
    },
    {
      "cell_type": "markdown",
      "metadata": {
        "id": "RqKTyaW6OKpb"
      },
      "source": [
        "unzip multiple csv file in 'the-movies-dataset.zip' to 'temp_csv' file ."
      ]
    },
    {
      "cell_type": "code",
      "metadata": {
        "id": "bin3Zd1Cd8mF"
      },
      "source": [
        "with ZipFile('/content/the-movies-dataset.zip', 'r') as zipObj:\n",
        "   # Get a list of all archived file names from the zip\n",
        "   listOfFileNames = zipObj.namelist()\n",
        "   # Iterate over the file names\n",
        "   for fileName in listOfFileNames:\n",
        "       # Check filename endswith csv\n",
        "       if fileName.endswith('.csv'):\n",
        "           # Extract a single file from zip\n",
        "           zipObj.extract(fileName, 'temp_csv')"
      ],
      "execution_count": 5,
      "outputs": []
    },
    {
      "cell_type": "markdown",
      "metadata": {
        "id": "OavmiwfdOpsw"
      },
      "source": [
        "read each of the csv file in 'temp_csv' to separate variable."
      ]
    },
    {
      "cell_type": "code",
      "metadata": {
        "id": "Xw7cPd0bhrej"
      },
      "source": [
        "credits=pd.read_csv('/content/temp_csv/credits.csv',header=0,sep=',',quotechar='\"')\n",
        "keywords=pd.read_csv('/content/temp_csv/keywords.csv',header=0,sep=',',quotechar='\"')\n",
        "links=pd.read_csv('/content/temp_csv/links.csv')\n",
        "links_small=pd.read_csv('/content/temp_csv/links_small.csv',header=0,sep=',',quotechar='\"')\n",
        "movies=pd.read_csv('/content/temp_csv/movies_metadata.csv',header=0,sep=',',quotechar='\"')\n",
        "df_ratings_all=pd.read_csv('/content/temp_csv/ratings.csv',header=0,sep=',',quotechar='\"')\n",
        "ratings_small=pd.read_csv('/content/temp_csv/ratings_small.csv',header=0,sep=',',quotechar='\"')"
      ],
      "execution_count": 6,
      "outputs": []
    },
    {
      "cell_type": "code",
      "metadata": {
        "id": "ncNU1r99ZOu6"
      },
      "source": [
        "movies=movies.drop([19730, 29503, 35587])\n",
        "ratings_small=ratings_small.drop([19730, 29503, 35587])"
      ],
      "execution_count": 7,
      "outputs": []
    },
    {
      "cell_type": "code",
      "metadata": {
        "id": "coBF2f-V2e7m"
      },
      "source": [
        "\n",
        "\n",
        "\n",
        "keywords['id'] = keywords['id'].astype('str')\n",
        "credits['id'] = credits['id'].astype('str')\n",
        "df_merge = (credits.merge(movies,on='id')).merge(keywords,on='id')\n",
        "df = df_merge[:10000]\n",
        "#df=df_merge\n",
        "#df.dtypes\n",
        "\n"
      ],
      "execution_count": 13,
      "outputs": []
    },
    {
      "cell_type": "code",
      "metadata": {
        "id": "_fEigYtTtN-n"
      },
      "source": [
        "#df_merge.head()"
      ],
      "execution_count": 14,
      "outputs": []
    },
    {
      "cell_type": "code",
      "metadata": {
        "colab": {
          "base_uri": "https://localhost:8080/"
        },
        "id": "uuaUDj30ZkZx",
        "outputId": "3870facf-7584-49dc-e4bd-ef7b0572d499"
      },
      "source": [
        "# Use certain columns\n",
        "df = df[['title','cast', 'crew', 'genres','keywords','original_language']]\n",
        "print(sum(df.isnull().any()))\n",
        "df.dropna(inplace=True)\n",
        "print(sum(df.isnull().any()))"
      ],
      "execution_count": 15,
      "outputs": [
        {
          "output_type": "stream",
          "name": "stdout",
          "text": [
            "0\n",
            "0\n"
          ]
        }
      ]
    },
    {
      "cell_type": "code",
      "metadata": {
        "id": "9f4XegEHlIhG"
      },
      "source": [
        "# Format words within the dataset\n",
        "def clean_data(value):\n",
        "    value =  unicodedata.normalize('NFD', value).encode('ascii', 'ignore').decode('ascii')\n",
        "    x = str.lower(re.sub(r\"[^a-zA-Z0-9]+\", '_', value.strip().replace(\" \",\"_\")))\n",
        "    if(x != '_'):\n",
        "        return x \n",
        "    else:\n",
        "        return \" \" "
      ],
      "execution_count": 16,
      "outputs": []
    },
    {
      "cell_type": "code",
      "metadata": {
        "id": "RkPGwzO72_Js"
      },
      "source": [
        "# And also we want to use words. So we must rearrange these data. For example cast values are like that:\n",
        "#df.cast"
      ],
      "execution_count": 17,
      "outputs": []
    },
    {
      "cell_type": "code",
      "metadata": {
        "id": "q63mPKx23D2M"
      },
      "source": [
        "df['cast'] = df['cast'].apply(lambda s: list(ast.literal_eval(s)))\n",
        "df['cast'] = df['cast'].apply((lambda cast : [clean_data(actor['name']) for actor in cast]))\n"
      ],
      "execution_count": 18,
      "outputs": []
    },
    {
      "cell_type": "code",
      "metadata": {
        "id": "5N0bHjHs3H5l"
      },
      "source": [
        "df['title'] = df['title'].apply((lambda title: clean_data(title)))"
      ],
      "execution_count": 19,
      "outputs": []
    },
    {
      "cell_type": "code",
      "metadata": {
        "id": "6Afo8KbR3O9T"
      },
      "source": [
        "df['genres'] = df['genres'].apply(lambda s: list(ast.literal_eval(s)))\n",
        "df['genres'] = df['genres'].apply((lambda genres : [clean_data(genre['name']) for genre in genres]))"
      ],
      "execution_count": 20,
      "outputs": []
    },
    {
      "cell_type": "code",
      "metadata": {
        "id": "fhoHyhv_3SbH"
      },
      "source": [
        "#print(df.keywords)\n",
        "df['keywords'] = df['keywords'].apply(lambda s: list(ast.literal_eval(s)))\n",
        "df['keywords'] = df['keywords'].apply((lambda keywords : [clean_data(key['name']) for key in keywords[:5]]))\n",
        "#df.keywords"
      ],
      "execution_count": 21,
      "outputs": []
    },
    {
      "cell_type": "code",
      "metadata": {
        "colab": {
          "base_uri": "https://localhost:8080/"
        },
        "id": "Fx01IA5F3Vp8",
        "outputId": "6d204862-d41d-495d-ed2c-e9446ad380b9"
      },
      "source": [
        "# The crew members that key main attract audances to watch a movie should be include in the crew list rest removed https://www.wrapbook.com/blog/film-crew-positions key people to key on film\n",
        "df['crew'] = df['crew'].apply(lambda s: list(ast.literal_eval(s)))\n",
        "\n",
        "\n",
        "def get_dir_prod_writer(x):\n",
        "    names=[]\n",
        "    for i in x:\n",
        "        if i['job']=='Director':\n",
        "            names.append(i['name'])\n",
        "        elif i['job']=='Producer':\n",
        "            names.append(i['name'])\n",
        "        elif i['job'] =='Screenplay':\n",
        "           names.append(i['name'])   \n",
        "        elif i['job'] =='Executive Producer':\n",
        "           names.append(i['name'])              \n",
        "    return names\n",
        "\n",
        "df['crew']=df['crew'].apply(get_dir_prod_writer)"
      ],
      "execution_count": 22,
      "outputs": [
        {
          "output_type": "stream",
          "name": "stdout",
          "text": [
            "0       [{'credit_id': '52fe4284c3a36847f8024f49', 'de...\n",
            "1       [{'credit_id': '52fe44bfc3a36847f80a7cd1', 'de...\n",
            "2       [{'credit_id': '52fe466a9251416c75077a89', 'de...\n",
            "3       [{'credit_id': '52fe44779251416c91011acb', 'de...\n",
            "4       [{'credit_id': '52fe44959251416c75039ed7', 'de...\n",
            "                              ...                        \n",
            "9995    [{'credit_id': '52fe467cc3a36847f81019f9', 'de...\n",
            "9996    [{'credit_id': '59665828c3a36825e8116b9a', 'de...\n",
            "9997    [{'credit_id': '52fe481ac3a368484e0e94f9', 'de...\n",
            "9998    [{'credit_id': '52fe46349251416c9104cb19', 'de...\n",
            "9999    [{'credit_id': '52fe4518c3a368484e04830d', 'de...\n",
            "Name: crew, Length: 10000, dtype: object\n"
          ]
        }
      ]
    },
    {
      "cell_type": "code",
      "metadata": {
        "id": "9wvN3Exo3ZTK"
      },
      "source": [
        "#print(df.original_language)\n",
        "# Dont change anything here\n",
        "#df.title"
      ],
      "execution_count": 23,
      "outputs": []
    },
    {
      "cell_type": "code",
      "metadata": {
        "id": "g_YIfJCl3dzP"
      },
      "source": [
        "# create a bag of word from previous attributes \n",
        "df['bag_of_words'] = df['cast'] + df['keywords'] + df['genres'] + df['crew'] \n",
        "df['bag_of_words'] = df['bag_of_words'].apply(lambda x: ' '.join(x)) + \" \" + df['title']"
      ],
      "execution_count": 24,
      "outputs": []
    },
    {
      "cell_type": "code",
      "metadata": {
        "colab": {
          "base_uri": "https://localhost:8080/",
          "height": 293
        },
        "id": "IBfVyJAyp71j",
        "outputId": "8f0d3766-edbc-494a-b698-69a9652e440d"
      },
      "source": [
        "df.head()"
      ],
      "execution_count": 25,
      "outputs": [
        {
          "output_type": "execute_result",
          "data": {
            "text/html": [
              "<div>\n",
              "<style scoped>\n",
              "    .dataframe tbody tr th:only-of-type {\n",
              "        vertical-align: middle;\n",
              "    }\n",
              "\n",
              "    .dataframe tbody tr th {\n",
              "        vertical-align: top;\n",
              "    }\n",
              "\n",
              "    .dataframe thead th {\n",
              "        text-align: right;\n",
              "    }\n",
              "</style>\n",
              "<table border=\"1\" class=\"dataframe\">\n",
              "  <thead>\n",
              "    <tr style=\"text-align: right;\">\n",
              "      <th></th>\n",
              "      <th>title</th>\n",
              "      <th>cast</th>\n",
              "      <th>crew</th>\n",
              "      <th>genres</th>\n",
              "      <th>keywords</th>\n",
              "      <th>original_language</th>\n",
              "      <th>bag_of_words</th>\n",
              "    </tr>\n",
              "  </thead>\n",
              "  <tbody>\n",
              "    <tr>\n",
              "      <th>0</th>\n",
              "      <td>toy_story</td>\n",
              "      <td>[tom_hanks, tim_allen, don_rickles, jim_varney...</td>\n",
              "      <td>[John Lasseter, Joss Whedon, Andrew Stanton, J...</td>\n",
              "      <td>[animation, comedy, family]</td>\n",
              "      <td>[jealousy, toy, boy, friendship, friends]</td>\n",
              "      <td>en</td>\n",
              "      <td>tom_hanks tim_allen don_rickles jim_varney wal...</td>\n",
              "    </tr>\n",
              "    <tr>\n",
              "      <th>1</th>\n",
              "      <td>jumanji</td>\n",
              "      <td>[robin_williams, jonathan_hyde, kirsten_dunst,...</td>\n",
              "      <td>[Larry J. Franco, Jonathan Hensleigh, Joe John...</td>\n",
              "      <td>[adventure, fantasy, family]</td>\n",
              "      <td>[board_game, disappearance, based_on_children_...</td>\n",
              "      <td>en</td>\n",
              "      <td>robin_williams jonathan_hyde kirsten_dunst bra...</td>\n",
              "    </tr>\n",
              "    <tr>\n",
              "      <th>2</th>\n",
              "      <td>grumpier_old_men</td>\n",
              "      <td>[walter_matthau, jack_lemmon, ann_margret, sop...</td>\n",
              "      <td>[Howard Deutch]</td>\n",
              "      <td>[romance, comedy]</td>\n",
              "      <td>[fishing, best_friend, duringcreditsstinger, o...</td>\n",
              "      <td>en</td>\n",
              "      <td>walter_matthau jack_lemmon ann_margret sophia_...</td>\n",
              "    </tr>\n",
              "    <tr>\n",
              "      <th>3</th>\n",
              "      <td>waiting_to_exhale</td>\n",
              "      <td>[whitney_houston, angela_bassett, loretta_devi...</td>\n",
              "      <td>[Forest Whitaker, Ronald Bass, Ronald Bass, Ez...</td>\n",
              "      <td>[comedy, drama, romance]</td>\n",
              "      <td>[based_on_novel, interracial_relationship, sin...</td>\n",
              "      <td>en</td>\n",
              "      <td>whitney_houston angela_bassett loretta_devine ...</td>\n",
              "    </tr>\n",
              "    <tr>\n",
              "      <th>4</th>\n",
              "      <td>father_of_the_bride_part_ii</td>\n",
              "      <td>[steve_martin, diane_keaton, martin_short, kim...</td>\n",
              "      <td>[Nancy Meyers, Nancy Meyers, Albert Hackett, C...</td>\n",
              "      <td>[comedy]</td>\n",
              "      <td>[baby, midlife_crisis, confidence, aging, daug...</td>\n",
              "      <td>en</td>\n",
              "      <td>steve_martin diane_keaton martin_short kimberl...</td>\n",
              "    </tr>\n",
              "  </tbody>\n",
              "</table>\n",
              "</div>"
            ],
            "text/plain": [
              "                         title  ...                                       bag_of_words\n",
              "0                    toy_story  ...  tom_hanks tim_allen don_rickles jim_varney wal...\n",
              "1                      jumanji  ...  robin_williams jonathan_hyde kirsten_dunst bra...\n",
              "2             grumpier_old_men  ...  walter_matthau jack_lemmon ann_margret sophia_...\n",
              "3            waiting_to_exhale  ...  whitney_houston angela_bassett loretta_devine ...\n",
              "4  father_of_the_bride_part_ii  ...  steve_martin diane_keaton martin_short kimberl...\n",
              "\n",
              "[5 rows x 7 columns]"
            ]
          },
          "metadata": {},
          "execution_count": 25
        }
      ]
    },
    {
      "cell_type": "code",
      "metadata": {
        "colab": {
          "base_uri": "https://localhost:8080/",
          "height": 424
        },
        "id": "TGLSVBGVqYu6",
        "outputId": "7810ea64-955e-4406-bde8-6445f07b5313"
      },
      "source": [
        "df_ratings_all['movieId'] = df_ratings_all['movieId'].astype('str')\n",
        "df_ratings_merge = df_ratings_all.merge(movies[['title','id']], left_on='movieId', right_on='id')\n",
        "df_ratings_merge = df_ratings_merge[['userId','movieId', 'rating', 'title']]\n",
        "df_ratings_merge\n"
      ],
      "execution_count": 26,
      "outputs": [
        {
          "output_type": "execute_result",
          "data": {
            "text/html": [
              "<div>\n",
              "<style scoped>\n",
              "    .dataframe tbody tr th:only-of-type {\n",
              "        vertical-align: middle;\n",
              "    }\n",
              "\n",
              "    .dataframe tbody tr th {\n",
              "        vertical-align: top;\n",
              "    }\n",
              "\n",
              "    .dataframe thead th {\n",
              "        text-align: right;\n",
              "    }\n",
              "</style>\n",
              "<table border=\"1\" class=\"dataframe\">\n",
              "  <thead>\n",
              "    <tr style=\"text-align: right;\">\n",
              "      <th></th>\n",
              "      <th>userId</th>\n",
              "      <th>movieId</th>\n",
              "      <th>rating</th>\n",
              "      <th>title</th>\n",
              "    </tr>\n",
              "  </thead>\n",
              "  <tbody>\n",
              "    <tr>\n",
              "      <th>0</th>\n",
              "      <td>1</td>\n",
              "      <td>110</td>\n",
              "      <td>1.0</td>\n",
              "      <td>Three Colors: Red</td>\n",
              "    </tr>\n",
              "    <tr>\n",
              "      <th>1</th>\n",
              "      <td>11</td>\n",
              "      <td>110</td>\n",
              "      <td>3.5</td>\n",
              "      <td>Three Colors: Red</td>\n",
              "    </tr>\n",
              "    <tr>\n",
              "      <th>2</th>\n",
              "      <td>22</td>\n",
              "      <td>110</td>\n",
              "      <td>5.0</td>\n",
              "      <td>Three Colors: Red</td>\n",
              "    </tr>\n",
              "    <tr>\n",
              "      <th>3</th>\n",
              "      <td>24</td>\n",
              "      <td>110</td>\n",
              "      <td>5.0</td>\n",
              "      <td>Three Colors: Red</td>\n",
              "    </tr>\n",
              "    <tr>\n",
              "      <th>4</th>\n",
              "      <td>29</td>\n",
              "      <td>110</td>\n",
              "      <td>3.0</td>\n",
              "      <td>Three Colors: Red</td>\n",
              "    </tr>\n",
              "    <tr>\n",
              "      <th>...</th>\n",
              "      <td>...</td>\n",
              "      <td>...</td>\n",
              "      <td>...</td>\n",
              "      <td>...</td>\n",
              "    </tr>\n",
              "    <tr>\n",
              "      <th>11437632</th>\n",
              "      <td>270123</td>\n",
              "      <td>140222</td>\n",
              "      <td>3.0</td>\n",
              "      <td>Love and Honor</td>\n",
              "    </tr>\n",
              "    <tr>\n",
              "      <th>11437633</th>\n",
              "      <td>270123</td>\n",
              "      <td>151509</td>\n",
              "      <td>3.0</td>\n",
              "      <td>Trapped in the Closet: Chapters 23-33</td>\n",
              "    </tr>\n",
              "    <tr>\n",
              "      <th>11437634</th>\n",
              "      <td>270123</td>\n",
              "      <td>159109</td>\n",
              "      <td>1.5</td>\n",
              "      <td>The Rambler</td>\n",
              "    </tr>\n",
              "    <tr>\n",
              "      <th>11437635</th>\n",
              "      <td>270694</td>\n",
              "      <td>165159</td>\n",
              "      <td>4.0</td>\n",
              "      <td>Agenzia Riccardo Finzi... praticamente detective</td>\n",
              "    </tr>\n",
              "    <tr>\n",
              "      <th>11437636</th>\n",
              "      <td>270887</td>\n",
              "      <td>136928</td>\n",
              "      <td>3.0</td>\n",
              "      <td>First Winter</td>\n",
              "    </tr>\n",
              "  </tbody>\n",
              "</table>\n",
              "<p>11437637 rows × 4 columns</p>\n",
              "</div>"
            ],
            "text/plain": [
              "          userId  ...                                             title\n",
              "0              1  ...                                 Three Colors: Red\n",
              "1             11  ...                                 Three Colors: Red\n",
              "2             22  ...                                 Three Colors: Red\n",
              "3             24  ...                                 Three Colors: Red\n",
              "4             29  ...                                 Three Colors: Red\n",
              "...          ...  ...                                               ...\n",
              "11437632  270123  ...                                    Love and Honor\n",
              "11437633  270123  ...             Trapped in the Closet: Chapters 23-33\n",
              "11437634  270123  ...                                       The Rambler\n",
              "11437635  270694  ...  Agenzia Riccardo Finzi... praticamente detective\n",
              "11437636  270887  ...                                      First Winter\n",
              "\n",
              "[11437637 rows x 4 columns]"
            ]
          },
          "metadata": {},
          "execution_count": 26
        }
      ]
    },
    {
      "cell_type": "code",
      "metadata": {
        "id": "prN6CynqrYXA"
      },
      "source": [
        "df_ratings_merge_with_different_title = df_ratings_merge\n",
        "df_ratings_merge_with_different_title['title'] = df_ratings_merge_with_different_title['title'].apply(lambda x: clean_data(x))"
      ],
      "execution_count": 27,
      "outputs": []
    },
    {
      "cell_type": "code",
      "metadata": {
        "colab": {
          "base_uri": "https://localhost:8080/",
          "height": 206
        },
        "id": "7sQGRxkHssiw",
        "outputId": "7ecf29e6-3047-4999-ee70-475bdffcdb15"
      },
      "source": [
        "df_ratings_merge_with_different_title.head()"
      ],
      "execution_count": 48,
      "outputs": [
        {
          "output_type": "execute_result",
          "data": {
            "text/html": [
              "<div>\n",
              "<style scoped>\n",
              "    .dataframe tbody tr th:only-of-type {\n",
              "        vertical-align: middle;\n",
              "    }\n",
              "\n",
              "    .dataframe tbody tr th {\n",
              "        vertical-align: top;\n",
              "    }\n",
              "\n",
              "    .dataframe thead th {\n",
              "        text-align: right;\n",
              "    }\n",
              "</style>\n",
              "<table border=\"1\" class=\"dataframe\">\n",
              "  <thead>\n",
              "    <tr style=\"text-align: right;\">\n",
              "      <th></th>\n",
              "      <th>userId</th>\n",
              "      <th>movieId</th>\n",
              "      <th>rating</th>\n",
              "      <th>title</th>\n",
              "    </tr>\n",
              "  </thead>\n",
              "  <tbody>\n",
              "    <tr>\n",
              "      <th>0</th>\n",
              "      <td>1</td>\n",
              "      <td>110</td>\n",
              "      <td>1.0</td>\n",
              "      <td>three_colors_red</td>\n",
              "    </tr>\n",
              "    <tr>\n",
              "      <th>1</th>\n",
              "      <td>11</td>\n",
              "      <td>110</td>\n",
              "      <td>3.5</td>\n",
              "      <td>three_colors_red</td>\n",
              "    </tr>\n",
              "    <tr>\n",
              "      <th>2</th>\n",
              "      <td>22</td>\n",
              "      <td>110</td>\n",
              "      <td>5.0</td>\n",
              "      <td>three_colors_red</td>\n",
              "    </tr>\n",
              "    <tr>\n",
              "      <th>3</th>\n",
              "      <td>24</td>\n",
              "      <td>110</td>\n",
              "      <td>5.0</td>\n",
              "      <td>three_colors_red</td>\n",
              "    </tr>\n",
              "    <tr>\n",
              "      <th>4</th>\n",
              "      <td>29</td>\n",
              "      <td>110</td>\n",
              "      <td>3.0</td>\n",
              "      <td>three_colors_red</td>\n",
              "    </tr>\n",
              "  </tbody>\n",
              "</table>\n",
              "</div>"
            ],
            "text/plain": [
              "   userId movieId  rating             title\n",
              "0       1     110     1.0  three_colors_red\n",
              "1      11     110     3.5  three_colors_red\n",
              "2      22     110     5.0  three_colors_red\n",
              "3      24     110     5.0  three_colors_red\n",
              "4      29     110     3.0  three_colors_red"
            ]
          },
          "metadata": {},
          "execution_count": 48
        }
      ]
    },
    {
      "cell_type": "code",
      "metadata": {
        "id": "dJUgtNwUp6Rs"
      },
      "source": [
        "df_ratings_merge_with_different_title=df_ratings_merge_with_different_title[(df_ratings_merge_with_different_title['rating']>3.5)]\n",
        "df_ratings_merge_with_different_title.reset_index(drop=True, inplace=True)"
      ],
      "execution_count": 28,
      "outputs": []
    },
    {
      "cell_type": "code",
      "metadata": {
        "id": "i6KhyHRY3jps"
      },
      "source": [
        "tfidf = TfidfVectorizer()\n",
        "tfidf_matrix = tfidf.fit_transform(df.bag_of_words)"
      ],
      "execution_count": 62,
      "outputs": []
    },
    {
      "cell_type": "code",
      "metadata": {
        "id": "-alqKiNL3rRP"
      },
      "source": [
        "# Compute cosine similarity between all movie-descriptions I tried with euclidean but gave poor results\n",
        "similarity = cosine_similarity(tfidf_matrix)\n",
        "# Remove self-similarity from matrix\n",
        "similarity -= np.eye(similarity.shape[0])"
      ],
      "execution_count": 30,
      "outputs": []
    },
    {
      "cell_type": "code",
      "metadata": {
        "id": "Ha6XVrow3uMv"
      },
      "source": [
        "def get_content_based_recommendations(title):\n",
        " \n",
        "    index = df.reset_index(drop=True)[df.title == clean_data(title)].index\n",
        "    if len(index) > 0:\n",
        "        index = index[0]\n",
        "        n_plot = 10\n",
        "      \n",
        "        similar_movies_index = np.argsort(similarity[index])[::-1][:n_plot]\n",
        "        similar_movies_score = np.sort(similarity[index])[::-1][:n_plot]\n",
        "\n",
        "        # Get similar movies\n",
        "        similar_movie_titles = df.iloc[similar_movies_index].index\n",
        "        return [df.iloc[index].title for index in similar_movies_index]\n",
        "    else:\n",
        "        return None"
      ],
      "execution_count": 31,
      "outputs": []
    },
    {
      "cell_type": "code",
      "metadata": {
        "id": "pdQQ0Kf13vqD"
      },
      "source": [
        "def get_content_based_recommendation_for_user(userId):\n",
        "    # Check if user id exist\n",
        "    # if not exist show some of populars\n",
        "    \n",
        "    # Get highest ranking score of this user\n",
        "    highest_ranked_movies = df_ratings_merge[df_ratings_merge['userId'] == userId]\n",
        "    highest_ranked_movies.sort_values(by=['rating'], ascending=False)\n",
        "    #print(highest_ranked_movies)\n",
        "    similar_movies = set()\n",
        "    for i in range(len(highest_ranked_movies)):\n",
        "        current_similar_movies = get_content_based_recommendations(highest_ranked_movies.iloc[i].title)\n",
        "        #This will be define after using Suprise\n",
        "        if current_similar_movies == None:\n",
        "            continue\n",
        "        for movie_title in current_similar_movies:\n",
        "            similar_movies.add(movie_title)\n",
        "    \n",
        "    result_df = pd.DataFrame(similar_movies, columns=['title'])\n",
        "    \n",
        "    without_duplicate = df_ratings_merge_with_different_title.drop_duplicates(subset='title', keep='first', inplace = False)    \n",
        "    result_df = result_df.merge(without_duplicate, on = 'title')\n",
        "    \n",
        "    return result_df\n",
        "\n"
      ],
      "execution_count": 33,
      "outputs": []
    },
    {
      "cell_type": "code",
      "metadata": {
        "colab": {
          "base_uri": "https://localhost:8080/"
        },
        "id": "jKJnmgzE-yN_",
        "outputId": "4fe17252-2e5c-4a97-92c5-5b8425fd8e8e"
      },
      "source": [
        "df_ratings = df_ratings_all[:1000000]\n",
        "df_ratings.sample(10)\n",
        "df_train = df_ratings.sample(frac=0.8)\n",
        "df_test = df_ratings.drop(df_train.index)\n",
        "print(\"Train data: {}, test data: {}\".format(len(df_train), len(df_test)))"
      ],
      "execution_count": 44,
      "outputs": [
        {
          "output_type": "stream",
          "name": "stdout",
          "text": [
            "Train data: 800000, test data: 200000\n"
          ]
        }
      ]
    },
    {
      "cell_type": "code",
      "metadata": {
        "id": "GxsQagHgBPDP"
      },
      "source": [
        ""
      ],
      "execution_count": null,
      "outputs": []
    },
    {
      "cell_type": "code",
      "metadata": {
        "id": "lHeMYVww841q"
      },
      "source": [
        "# import most of Algorithms for valulation did not inculde SVDpp as process time took too long \n",
        "from surprise import Reader, Dataset,  SVD, SVDpp, SlopeOne, NMF, NormalPredictor, KNNBaseline, KNNBasic, KNNWithMeans, KNNWithZScore, BaselineOnly, CoClustering\n",
        "from surprise.model_selection import cross_validate\n",
        "# Define the format\n",
        "reader = Reader(rating_scale=(0.5, 5.0))\n",
        "data = Dataset.load_from_df(df_ratings[['userId', 'movieId', 'rating']], reader)\n"
      ],
      "execution_count": 54,
      "outputs": []
    },
    {
      "cell_type": "code",
      "metadata": {
        "colab": {
          "base_uri": "https://localhost:8080/",
          "height": 915
        },
        "id": "FhDOkgKsBZzz",
        "outputId": "2a6ed06a-5fb3-42b7-f763-1c350a80fb76"
      },
      "source": [
        "benchmark = []\n",
        "# Iterate over all algorithms will take time\n",
        "for algorithm in [SVD(), SlopeOne(), NMF(), NormalPredictor(), KNNBaseline(), KNNBasic(), KNNWithMeans(), KNNWithZScore(), BaselineOnly(), CoClustering()]:\n",
        "    # Perform cross validation\n",
        "    results = cross_validate(algorithm, data, measures=['RMSE'], cv=3, verbose=False)\n",
        "    \n",
        "    # Get results & append algorithm name\n",
        "    tmp = pd.DataFrame.from_dict(results).mean(axis=0)\n",
        "    tmp = tmp.append(pd.Series([str(algorithm).split(' ')[0].split('.')[-1]], index=['Algorithm']))\n",
        "    benchmark.append(tmp)\n",
        "    \n",
        "pd.DataFrame(benchmark).set_index('Algorithm').sort_values('test_rmse')  "
      ],
      "execution_count": 56,
      "outputs": [
        {
          "output_type": "stream",
          "name": "stdout",
          "text": [
            "Estimating biases using als...\n",
            "Computing the msd similarity matrix...\n",
            "Done computing similarity matrix.\n",
            "Estimating biases using als...\n",
            "Computing the msd similarity matrix...\n",
            "Done computing similarity matrix.\n",
            "Estimating biases using als...\n",
            "Computing the msd similarity matrix...\n",
            "Done computing similarity matrix.\n",
            "Computing the msd similarity matrix...\n",
            "Done computing similarity matrix.\n",
            "Computing the msd similarity matrix...\n",
            "Done computing similarity matrix.\n",
            "Computing the msd similarity matrix...\n",
            "Done computing similarity matrix.\n",
            "Computing the msd similarity matrix...\n",
            "Done computing similarity matrix.\n",
            "Computing the msd similarity matrix...\n",
            "Done computing similarity matrix.\n",
            "Computing the msd similarity matrix...\n",
            "Done computing similarity matrix.\n",
            "Computing the msd similarity matrix...\n",
            "Done computing similarity matrix.\n",
            "Computing the msd similarity matrix...\n",
            "Done computing similarity matrix.\n",
            "Computing the msd similarity matrix...\n",
            "Done computing similarity matrix.\n",
            "Estimating biases using als...\n",
            "Estimating biases using als...\n",
            "Estimating biases using als...\n"
          ]
        },
        {
          "output_type": "execute_result",
          "data": {
            "text/html": [
              "<div>\n",
              "<style scoped>\n",
              "    .dataframe tbody tr th:only-of-type {\n",
              "        vertical-align: middle;\n",
              "    }\n",
              "\n",
              "    .dataframe tbody tr th {\n",
              "        vertical-align: top;\n",
              "    }\n",
              "\n",
              "    .dataframe thead th {\n",
              "        text-align: right;\n",
              "    }\n",
              "</style>\n",
              "<table border=\"1\" class=\"dataframe\">\n",
              "  <thead>\n",
              "    <tr style=\"text-align: right;\">\n",
              "      <th></th>\n",
              "      <th>test_rmse</th>\n",
              "      <th>fit_time</th>\n",
              "      <th>test_time</th>\n",
              "    </tr>\n",
              "    <tr>\n",
              "      <th>Algorithm</th>\n",
              "      <th></th>\n",
              "      <th></th>\n",
              "      <th></th>\n",
              "    </tr>\n",
              "  </thead>\n",
              "  <tbody>\n",
              "    <tr>\n",
              "      <th>SVD</th>\n",
              "      <td>0.844549</td>\n",
              "      <td>35.708838</td>\n",
              "      <td>3.897160</td>\n",
              "    </tr>\n",
              "    <tr>\n",
              "      <th>KNNBaseline</th>\n",
              "      <td>0.856529</td>\n",
              "      <td>34.863321</td>\n",
              "      <td>177.876389</td>\n",
              "    </tr>\n",
              "    <tr>\n",
              "      <th>BaselineOnly</th>\n",
              "      <td>0.862672</td>\n",
              "      <td>4.793888</td>\n",
              "      <td>4.298427</td>\n",
              "    </tr>\n",
              "    <tr>\n",
              "      <th>SlopeOne</th>\n",
              "      <td>0.865837</td>\n",
              "      <td>41.586344</td>\n",
              "      <td>122.078795</td>\n",
              "    </tr>\n",
              "    <tr>\n",
              "      <th>KNNWithZScore</th>\n",
              "      <td>0.878604</td>\n",
              "      <td>31.637090</td>\n",
              "      <td>170.269400</td>\n",
              "    </tr>\n",
              "    <tr>\n",
              "      <th>KNNWithMeans</th>\n",
              "      <td>0.879508</td>\n",
              "      <td>31.867290</td>\n",
              "      <td>175.963108</td>\n",
              "    </tr>\n",
              "    <tr>\n",
              "      <th>NMF</th>\n",
              "      <td>0.881415</td>\n",
              "      <td>46.969916</td>\n",
              "      <td>3.748634</td>\n",
              "    </tr>\n",
              "    <tr>\n",
              "      <th>KNNBasic</th>\n",
              "      <td>0.907495</td>\n",
              "      <td>30.372117</td>\n",
              "      <td>168.997492</td>\n",
              "    </tr>\n",
              "    <tr>\n",
              "      <th>CoClustering</th>\n",
              "      <td>0.910004</td>\n",
              "      <td>20.238074</td>\n",
              "      <td>4.043315</td>\n",
              "    </tr>\n",
              "    <tr>\n",
              "      <th>NormalPredictor</th>\n",
              "      <td>1.423559</td>\n",
              "      <td>1.489384</td>\n",
              "      <td>4.685408</td>\n",
              "    </tr>\n",
              "  </tbody>\n",
              "</table>\n",
              "</div>"
            ],
            "text/plain": [
              "                 test_rmse   fit_time   test_time\n",
              "Algorithm                                        \n",
              "SVD               0.844549  35.708838    3.897160\n",
              "KNNBaseline       0.856529  34.863321  177.876389\n",
              "BaselineOnly      0.862672   4.793888    4.298427\n",
              "SlopeOne          0.865837  41.586344  122.078795\n",
              "KNNWithZScore     0.878604  31.637090  170.269400\n",
              "KNNWithMeans      0.879508  31.867290  175.963108\n",
              "NMF               0.881415  46.969916    3.748634\n",
              "KNNBasic          0.907495  30.372117  168.997492\n",
              "CoClustering      0.910004  20.238074    4.043315\n",
              "NormalPredictor   1.423559   1.489384    4.685408"
            ]
          },
          "metadata": {},
          "execution_count": 56
        }
      ]
    },
    {
      "cell_type": "code",
      "metadata": {
        "colab": {
          "base_uri": "https://localhost:8080/"
        },
        "id": "f99MxIum8vnj",
        "outputId": "b08ca1d7-45dc-46ae-bf66-46a40030ffe0"
      },
      "source": [
        "benchmark = []\n",
        "# Select the algorithm\n",
        "algorithms = [\n",
        "    SVD(n_epochs = 1, n_factors = 20), \n",
        "    SVD(n_epochs = 2, n_factors = 20), \n",
        "    SVD(n_epochs = 5) \n",
        "]\n",
        "algorithm = algorithms[0]\n",
        "\n",
        "# Perform cross validation\n",
        "results = cross_validate(algorithm, data, measures=['RMSE'], cv=5, verbose=True)\n",
        "\n",
        "# Get results & append algorithm name\n",
        "tmp = pd.DataFrame.from_dict(results).mean(axis=0)\n",
        "tmp = tmp.append(pd.Series([str(algorithm).split(' ')[0].split('.')[-1]]))\n",
        "benchmark.append(tmp)\n"
      ],
      "execution_count": 57,
      "outputs": [
        {
          "output_type": "stream",
          "name": "stdout",
          "text": [
            "Evaluating RMSE of algorithm SVD on 5 split(s).\n",
            "\n",
            "                  Fold 1  Fold 2  Fold 3  Fold 4  Fold 5  Mean    Std     \n",
            "RMSE (testset)    0.9032  0.9054  0.9042  0.9047  0.9044  0.9044  0.0007  \n",
            "Fit time          1.36    2.00    2.03    1.99    1.99    1.87    0.26    \n",
            "Test time         2.25    2.19    2.29    2.25    2.89    2.37    0.26    \n"
          ]
        }
      ]
    },
    {
      "cell_type": "code",
      "metadata": {
        "colab": {
          "base_uri": "https://localhost:8080/"
        },
        "id": "fBoDunj-_2JG",
        "outputId": "279c1746-8667-4896-f441-4f74ce401485"
      },
      "source": [
        "from surprise.model_selection import train_test_split\n",
        "from surprise import accuracy\n",
        "trainset, testset = train_test_split(data, test_size=.25)\n",
        "algorithm.fit(trainset)\n",
        "predictions = algorithm.test(testset)\n",
        "accuracy.rmse(predictions)"
      ],
      "execution_count": 58,
      "outputs": [
        {
          "output_type": "stream",
          "name": "stdout",
          "text": [
            "RMSE: 0.9073\n"
          ]
        },
        {
          "output_type": "execute_result",
          "data": {
            "text/plain": [
              "0.9073485600371427"
            ]
          },
          "metadata": {},
          "execution_count": 58
        }
      ]
    },
    {
      "cell_type": "code",
      "metadata": {
        "id": "wAFPh3pYADmU"
      },
      "source": [
        "def get_collabration_based_recommendations(userId, movieId):\n",
        "    return algorithm.predict(userId, movieId).est"
      ],
      "execution_count": 59,
      "outputs": []
    },
    {
      "cell_type": "code",
      "metadata": {
        "id": "erA6wQ8u4z7_"
      },
      "source": [
        "def get_recommendations(userId):\n",
        "    content_based = get_content_based_recommendation_for_user(userId)\n",
        "    content_based = content_based[['title','movieId']]\n",
        "    \n",
        "    predicted_rating = []\n",
        "    for i in range(len(content_based)):\n",
        "        ratings = get_collabration_based_recommendations(userId, int(content_based.iloc[i].movieId))\n",
        "        predicted_rating.append(ratings)\n",
        "    content_based['predicted_rating'] = predicted_rating\n",
        "    content_based = content_based.sort_values(by=['predicted_rating'], ascending=False)\n",
        "\n",
        "    return content_based[:10]\n",
        "\n"
      ],
      "execution_count": 60,
      "outputs": []
    },
    {
      "cell_type": "code",
      "metadata": {
        "colab": {
          "base_uri": "https://localhost:8080/",
          "height": 363
        },
        "id": "mKHdBAf74Ccv",
        "outputId": "e241dd0e-4844-465d-d8b6-715eec520713"
      },
      "source": [
        "get_recommendations(1)"
      ],
      "execution_count": 61,
      "outputs": [
        {
          "output_type": "execute_result",
          "data": {
            "text/html": [
              "<div>\n",
              "<style scoped>\n",
              "    .dataframe tbody tr th:only-of-type {\n",
              "        vertical-align: middle;\n",
              "    }\n",
              "\n",
              "    .dataframe tbody tr th {\n",
              "        vertical-align: top;\n",
              "    }\n",
              "\n",
              "    .dataframe thead th {\n",
              "        text-align: right;\n",
              "    }\n",
              "</style>\n",
              "<table border=\"1\" class=\"dataframe\">\n",
              "  <thead>\n",
              "    <tr style=\"text-align: right;\">\n",
              "      <th></th>\n",
              "      <th>title</th>\n",
              "      <th>movieId</th>\n",
              "      <th>predicted_rating</th>\n",
              "    </tr>\n",
              "  </thead>\n",
              "  <tbody>\n",
              "    <tr>\n",
              "      <th>0</th>\n",
              "      <td>small_change</td>\n",
              "      <td>1660</td>\n",
              "      <td>3.579189</td>\n",
              "    </tr>\n",
              "    <tr>\n",
              "      <th>1</th>\n",
              "      <td>the_debt</td>\n",
              "      <td>52666</td>\n",
              "      <td>3.579189</td>\n",
              "    </tr>\n",
              "    <tr>\n",
              "      <th>24</th>\n",
              "      <td>when_harry_met_sally_</td>\n",
              "      <td>639</td>\n",
              "      <td>3.579189</td>\n",
              "    </tr>\n",
              "    <tr>\n",
              "      <th>23</th>\n",
              "      <td>bed_and_board</td>\n",
              "      <td>258</td>\n",
              "      <td>3.579189</td>\n",
              "    </tr>\n",
              "    <tr>\n",
              "      <th>22</th>\n",
              "      <td>the_double_life_of_veronique</td>\n",
              "      <td>1600</td>\n",
              "      <td>3.579189</td>\n",
              "    </tr>\n",
              "    <tr>\n",
              "      <th>21</th>\n",
              "      <td>the_last_metro</td>\n",
              "      <td>1716</td>\n",
              "      <td>3.579189</td>\n",
              "    </tr>\n",
              "    <tr>\n",
              "      <th>20</th>\n",
              "      <td>the_lady_vanishes</td>\n",
              "      <td>940</td>\n",
              "      <td>3.579189</td>\n",
              "    </tr>\n",
              "    <tr>\n",
              "      <th>19</th>\n",
              "      <td>frenzy</td>\n",
              "      <td>573</td>\n",
              "      <td>3.579189</td>\n",
              "    </tr>\n",
              "    <tr>\n",
              "      <th>18</th>\n",
              "      <td>blackmail</td>\n",
              "      <td>543</td>\n",
              "      <td>3.579189</td>\n",
              "    </tr>\n",
              "    <tr>\n",
              "      <th>17</th>\n",
              "      <td>three_colors_white</td>\n",
              "      <td>109</td>\n",
              "      <td>3.579189</td>\n",
              "    </tr>\n",
              "  </tbody>\n",
              "</table>\n",
              "</div>"
            ],
            "text/plain": [
              "                           title movieId  predicted_rating\n",
              "0                   small_change    1660          3.579189\n",
              "1                       the_debt   52666          3.579189\n",
              "24         when_harry_met_sally_     639          3.579189\n",
              "23                 bed_and_board     258          3.579189\n",
              "22  the_double_life_of_veronique    1600          3.579189\n",
              "21                the_last_metro    1716          3.579189\n",
              "20             the_lady_vanishes     940          3.579189\n",
              "19                        frenzy     573          3.579189\n",
              "18                     blackmail     543          3.579189\n",
              "17            three_colors_white     109          3.579189"
            ]
          },
          "metadata": {},
          "execution_count": 61
        }
      ]
    }
  ]
}